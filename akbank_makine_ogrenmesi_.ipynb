{
  "metadata": {
    "kernelspec": {
      "language": "python",
      "display_name": "Python 3",
      "name": "python3"
    },
    "language_info": {
      "name": "python",
      "version": "3.11.11",
      "mimetype": "text/x-python",
      "codemirror_mode": {
        "name": "ipython",
        "version": 3
      },
      "pygments_lexer": "ipython3",
      "nbconvert_exporter": "python",
      "file_extension": ".py"
    },
    "kaggle": {
      "accelerator": "none",
      "dataSources": [
        {
          "sourceId": 11934890,
          "sourceType": "datasetVersion",
          "datasetId": 7503483
        }
      ],
      "dockerImageVersionId": 31040,
      "isInternetEnabled": false,
      "language": "python",
      "sourceType": "notebook",
      "isGpuEnabled": false
    },
    "colab": {
      "name": "akbank_makine_ogrenmesi_",
      "provenance": [],
      "include_colab_link": true
    }
  },
  "nbformat_minor": 0,
  "nbformat": 4,
  "cells": [
    {
      "cell_type": "markdown",
      "metadata": {
        "id": "view-in-github",
        "colab_type": "text"
      },
      "source": [
        "<a href=\"https://colab.research.google.com/github/emirciicek/akbank_makine_ogrenmesi_/blob/main/akbank_makine_ogrenmesi_.ipynb\" target=\"_parent\"><img src=\"https://colab.research.google.com/assets/colab-badge.svg\" alt=\"Open In Colab\"/></a>"
      ]
    },
    {
      "source": [
        "import kagglehub\n",
        "kagglehub.login()\n"
      ],
      "metadata": {
        "id": "USKDMvknfVvm"
      },
      "cell_type": "code",
      "outputs": [],
      "execution_count": null
    },
    {
      "source": [
        "emirciicek_dataset_path = kagglehub.dataset_download('emirciicek/dataset')\n",
        "\n",
        "print('Data source import complete.')\n"
      ],
      "metadata": {
        "id": "jfemW_WVfVvq"
      },
      "cell_type": "code",
      "outputs": [],
      "execution_count": null
    },
    {
      "cell_type": "code",
      "source": [
        "import numpy as np # linear algebra\n",
        "import pandas as pd # data processing, CSV file I/O (e.g. pd.read_csv)\n",
        "\n",
        "import os\n",
        "for dirname, _, filenames in os.walk('/kaggle/input'):\n",
        "    for filename in filenames:\n",
        "        print(os.path.join(dirname, filename))"
      ],
      "metadata": {
        "_uuid": "8f2839f25d086af736a60e9eeb907d3b93b6e0e5",
        "_cell_guid": "b1076dfc-b9ad-4769-8c92-a6c4dae69d19",
        "trusted": true,
        "id": "kvFeEhi3fVvr"
      },
      "outputs": [],
      "execution_count": null
    },
    {
      "cell_type": "code",
      "source": [
        "import pandas as pd\n",
        "\n",
        "df = pd.read_csv(\"/kaggle/input/appoinments/appoinments.csv\")\n",
        "\n",
        "# Hedef değişken analizi\n",
        "no_show_counts = df[\"No-show\"].value_counts()\n",
        "no_show_percent = df[\"No-show\"].value_counts(normalize=True) * 100\n",
        "\n",
        "print(\"Sınıf sayıları:\")\n",
        "print(no_show_counts)\n",
        "\n",
        "print(\"\\nYüzdeler:\")\n",
        "print(no_show_percent)\n"
      ],
      "metadata": {
        "trusted": true,
        "execution": {
          "iopub.status.busy": "2025-05-24T15:12:13.113462Z",
          "iopub.execute_input": "2025-05-24T15:12:13.113798Z",
          "iopub.status.idle": "2025-05-24T15:12:16.023816Z",
          "shell.execute_reply.started": "2025-05-24T15:12:13.113763Z",
          "shell.execute_reply": "2025-05-24T15:12:16.022075Z"
        },
        "id": "HUW4m-YVfVvr"
      },
      "outputs": [],
      "execution_count": null
    },
    {
      "cell_type": "code",
      "source": [
        "import os\n",
        "\n",
        "for dirname, _, filenames in os.walk('/kaggle/input'):\n",
        "    for filename in filenames:\n",
        "        print(os.path.join(dirname, filename))\n"
      ],
      "metadata": {
        "trusted": true,
        "execution": {
          "iopub.status.busy": "2025-05-24T15:13:16.551132Z",
          "iopub.execute_input": "2025-05-24T15:13:16.552033Z",
          "iopub.status.idle": "2025-05-24T15:13:16.561422Z",
          "shell.execute_reply.started": "2025-05-24T15:13:16.551994Z",
          "shell.execute_reply": "2025-05-24T15:13:16.560337Z"
        },
        "id": "9GOUjsYpfVvs"
      },
      "outputs": [],
      "execution_count": null
    },
    {
      "cell_type": "code",
      "source": [
        "import pandas as pd\n",
        "\n",
        "# Doğru dosya yolu\n",
        "df = pd.read_csv(\"/kaggle/input/dataset/appoinments.csv\")\n",
        "\n",
        "# Hedef değişken analizi\n",
        "no_show_counts = df[\"No-show\"].value_counts()\n",
        "no_show_percent = df[\"No-show\"].value_counts(normalize=True) * 100\n",
        "\n",
        "print(\"Sınıf sayıları:\")\n",
        "print(no_show_counts)\n",
        "\n",
        "print(\"\\nYüzdeler:\")\n",
        "print(no_show_percent)\n"
      ],
      "metadata": {
        "trusted": true,
        "execution": {
          "iopub.status.busy": "2025-05-24T16:12:04.794473Z",
          "iopub.execute_input": "2025-05-24T16:12:04.794747Z",
          "iopub.status.idle": "2025-05-24T16:12:05.664449Z",
          "shell.execute_reply.started": "2025-05-24T16:12:04.794728Z",
          "shell.execute_reply": "2025-05-24T16:12:05.66314Z"
        },
        "id": "di5YgG1cfVvt"
      },
      "outputs": [],
      "execution_count": null
    },
    {
      "cell_type": "code",
      "source": [
        "import seaborn as sns\n",
        "import matplotlib.pyplot as plt\n",
        "\n",
        "# Grafiklerin Türkçe karakter sorunlarını önlemek için\n",
        "plt.rcParams['axes.unicode_minus'] = False\n",
        "\n",
        "# 1. Cinsiyete göre No-show oranı\n",
        "plt.figure(figsize=(6,4))\n",
        "sns.countplot(data=df, x=\"Gender\", hue=\"No-show\", palette=\"pastel\")\n",
        "plt.title(\"Cinsiyete Göre Randevuya Gelmeme Durumu\")\n",
        "plt.show()\n",
        "\n",
        "# 2. Yaş Dağılımı\n",
        "plt.figure(figsize=(8,4))\n",
        "sns.histplot(data=df, x=\"Age\", bins=50, kde=True)\n",
        "plt.title(\"Yaş Dağılımı\")\n",
        "plt.show()\n",
        "\n",
        "# 3. SMS alanlarla no-show ilişkisi\n",
        "plt.figure(figsize=(6,4))\n",
        "sns.countplot(data=df, x=\"SMS_received\", hue=\"No-show\", palette=\"pastel\")\n",
        "plt.title(\"SMS Alanlar Randevuya Geliyor mu?\")\n",
        "plt.show()\n"
      ],
      "metadata": {
        "trusted": true,
        "execution": {
          "iopub.status.busy": "2025-05-24T16:14:02.027234Z",
          "iopub.execute_input": "2025-05-24T16:14:02.027598Z",
          "iopub.status.idle": "2025-05-24T16:14:04.472883Z",
          "shell.execute_reply.started": "2025-05-24T16:14:02.027573Z",
          "shell.execute_reply": "2025-05-24T16:14:04.472098Z"
        },
        "id": "DYFPcXFbfVvt"
      },
      "outputs": [],
      "execution_count": null
    },
    {
      "cell_type": "code",
      "source": [
        "import pandas as pd\n",
        "\n",
        "# Doğru CSV yolu\n",
        "df = pd.read_csv(\"/kaggle/input/dataset/appoinments.csv\")\n"
      ],
      "metadata": {
        "trusted": true,
        "execution": {
          "iopub.status.busy": "2025-05-25T11:09:32.14118Z",
          "iopub.execute_input": "2025-05-25T11:09:32.14239Z",
          "iopub.status.idle": "2025-05-25T11:09:32.572628Z",
          "shell.execute_reply.started": "2025-05-25T11:09:32.142354Z",
          "shell.execute_reply": "2025-05-25T11:09:32.571628Z"
        },
        "id": "Idx7cVv_fVvu"
      },
      "outputs": [],
      "execution_count": null
    },
    {
      "cell_type": "code",
      "source": [
        "# Tarih sütunlarını datetime formatına çevir\n",
        "df[\"ScheduledDay\"] = pd.to_datetime(df[\"ScheduledDay\"])\n",
        "df[\"AppointmentDay\"] = pd.to_datetime(df[\"AppointmentDay\"])\n",
        "\n",
        "# Gün farkını hesapla\n",
        "df[\"DaysDiff\"] = (df[\"AppointmentDay\"] - df[\"ScheduledDay\"]).dt.days\n",
        "\n",
        "# Kontrol edelim\n",
        "print(df[\"DaysDiff\"].describe())\n"
      ],
      "metadata": {
        "trusted": true,
        "execution": {
          "iopub.status.busy": "2025-05-25T11:09:39.95107Z",
          "iopub.execute_input": "2025-05-25T11:09:39.951432Z",
          "iopub.status.idle": "2025-05-25T11:09:40.132146Z",
          "shell.execute_reply.started": "2025-05-25T11:09:39.951409Z",
          "shell.execute_reply": "2025-05-25T11:09:40.130691Z"
        },
        "id": "Ax_DT6_cfVvu"
      },
      "outputs": [],
      "execution_count": null
    },
    {
      "cell_type": "code",
      "source": [
        "# Negatif gün farklarını temizleyelim\n",
        "df = df[df[\"DaysDiff\"] >= 0]\n"
      ],
      "metadata": {
        "trusted": true,
        "execution": {
          "iopub.status.busy": "2025-05-25T11:10:31.104879Z",
          "iopub.execute_input": "2025-05-25T11:10:31.105185Z",
          "iopub.status.idle": "2025-05-25T11:10:31.124087Z",
          "shell.execute_reply.started": "2025-05-25T11:10:31.105163Z",
          "shell.execute_reply": "2025-05-25T11:10:31.123181Z"
        },
        "id": "aGn5_Mw7fVvv"
      },
      "outputs": [],
      "execution_count": null
    },
    {
      "cell_type": "code",
      "source": [
        "# Gelme durumu ile gün farkı arasındaki ilişkiye bakalım\n",
        "import seaborn as sns\n",
        "import matplotlib.pyplot as plt\n",
        "\n",
        "plt.figure(figsize=(10, 5))\n",
        "sns.boxplot(x=\"No-show\", y=\"DaysDiff\", data=df)\n",
        "plt.title(\"Randevu Planlama Süresi vs No-show\")\n",
        "plt.xlabel(\"No-show (Randevuya Gelmeme)\")\n",
        "plt.ylabel(\"Kaç Gün Önceden Alındı\")\n",
        "plt.show()\n"
      ],
      "metadata": {
        "trusted": true,
        "execution": {
          "iopub.status.busy": "2025-05-25T11:10:41.109845Z",
          "iopub.execute_input": "2025-05-25T11:10:41.110108Z",
          "iopub.status.idle": "2025-05-25T11:10:42.529054Z",
          "shell.execute_reply.started": "2025-05-25T11:10:41.110091Z",
          "shell.execute_reply": "2025-05-25T11:10:42.528109Z"
        },
        "id": "qj4SkZcIfVvv"
      },
      "outputs": [],
      "execution_count": null
    },
    {
      "cell_type": "code",
      "source": [
        "# gereksiz sütunları atalım\n",
        "df = df.drop([\"PatientId\", \"AppointmentID\"], axis=1)\n"
      ],
      "metadata": {
        "trusted": true,
        "execution": {
          "iopub.status.busy": "2025-05-25T11:13:13.928997Z",
          "iopub.execute_input": "2025-05-25T11:13:13.929518Z",
          "iopub.status.idle": "2025-05-25T11:13:13.942577Z",
          "shell.execute_reply.started": "2025-05-25T11:13:13.929495Z",
          "shell.execute_reply": "2025-05-25T11:13:13.941549Z"
        },
        "id": "SmaiCWZQfVvv"
      },
      "outputs": [],
      "execution_count": null
    },
    {
      "cell_type": "code",
      "source": [
        "# no-show sütununu 0 ve 1'e çevirelim\n",
        "df[\"No-show\"] = df[\"No-show\"].map({\"No\": 0, \"Yes\": 1})\n"
      ],
      "metadata": {
        "trusted": true,
        "execution": {
          "iopub.status.busy": "2025-05-25T11:13:22.953051Z",
          "iopub.execute_input": "2025-05-25T11:13:22.953477Z",
          "iopub.status.idle": "2025-05-25T11:13:22.964771Z",
          "shell.execute_reply.started": "2025-05-25T11:13:22.953453Z",
          "shell.execute_reply": "2025-05-25T11:13:22.963497Z"
        },
        "id": "CswScDDTfVvv"
      },
      "outputs": [],
      "execution_count": null
    },
    {
      "cell_type": "code",
      "source": [
        "# kategorik verileri convert edelim\n",
        "from sklearn.preprocessing import LabelEncoder\n",
        "\n",
        "# Cinsiyet label encoding\n",
        "le = LabelEncoder()\n",
        "df[\"Gender\"] = le.fit_transform(df[\"Gender\"])  # F = 0, M = 1\n",
        "\n",
        "# Neighbourhood one-hot encoding\n",
        "df = pd.get_dummies(df, columns=[\"Neighbourhood\"], drop_first=True)\n"
      ],
      "metadata": {
        "trusted": true,
        "execution": {
          "iopub.status.busy": "2025-05-25T11:14:21.869292Z",
          "iopub.execute_input": "2025-05-25T11:14:21.869603Z",
          "iopub.status.idle": "2025-05-25T11:14:22.01145Z",
          "shell.execute_reply.started": "2025-05-25T11:14:21.869584Z",
          "shell.execute_reply": "2025-05-25T11:14:22.010256Z"
        },
        "id": "wu0g_Z3mfVvw"
      },
      "outputs": [],
      "execution_count": null
    },
    {
      "cell_type": "code",
      "source": [
        "# negatif daysdiff temizleyelim\n",
        "df = df[df[\"DaysDiff\"] >= 0]\n"
      ],
      "metadata": {
        "trusted": true,
        "execution": {
          "iopub.status.busy": "2025-05-25T11:15:13.069661Z",
          "iopub.execute_input": "2025-05-25T11:15:13.070014Z",
          "iopub.status.idle": "2025-05-25T11:15:13.078825Z",
          "shell.execute_reply.started": "2025-05-25T11:15:13.06999Z",
          "shell.execute_reply": "2025-05-25T11:15:13.077815Z"
        },
        "id": "cit-JCyYfVvw"
      },
      "outputs": [],
      "execution_count": null
    },
    {
      "cell_type": "code",
      "source": [
        "# eğitim/set işlemleri\n",
        "from sklearn.model_selection import train_test_split\n",
        "\n",
        "# Özellikler (X) ve hedef (y)\n",
        "X = df.drop(\"No-show\", axis=1)\n",
        "y = df[\"No-show\"]\n",
        "\n",
        "# Eğitim ve test bölmesi (%80 eğitim, %20 test)\n",
        "X_train, X_test, y_train, y_test = train_test_split(X, y, test_size=0.2, random_state=42)\n"
      ],
      "metadata": {
        "trusted": true,
        "execution": {
          "iopub.status.busy": "2025-05-25T11:15:31.659739Z",
          "iopub.execute_input": "2025-05-25T11:15:31.660069Z",
          "iopub.status.idle": "2025-05-25T11:15:31.84485Z",
          "shell.execute_reply.started": "2025-05-25T11:15:31.660044Z",
          "shell.execute_reply": "2025-05-25T11:15:31.843806Z"
        },
        "id": "OegAGUh8fVvw"
      },
      "outputs": [],
      "execution_count": null
    },
    {
      "cell_type": "code",
      "source": [
        "from sklearn.linear_model import LogisticRegression\n",
        "from sklearn.metrics import classification_report, confusion_matrix, accuracy_score\n",
        "\n",
        "# Modeli tanımlayıp eğitiyoruz\n",
        "log_model = LogisticRegression(max_iter=1000, class_weight='balanced', random_state=42)\n",
        "log_model.fit(X_train, y_train)\n",
        "\n",
        "# Tahmin yapıyoruz\n",
        "y_pred_log = log_model.predict(X_test)\n",
        "\n",
        "# Değerlendirmemizdir\n",
        "print(\"Logistic Regression Sonuçları:\")\n",
        "print(confusion_matrix(y_test, y_pred_log))\n",
        "print(classification_report(y_test, y_pred_log))\n",
        "print(\"Accuracy:\", accuracy_score(y_test, y_pred_log))\n"
      ],
      "metadata": {
        "trusted": true,
        "execution": {
          "iopub.status.busy": "2025-05-25T11:16:08.148471Z",
          "iopub.execute_input": "2025-05-25T11:16:08.148834Z",
          "iopub.status.idle": "2025-05-25T11:16:08.397069Z",
          "shell.execute_reply.started": "2025-05-25T11:16:08.14881Z",
          "shell.execute_reply": "2025-05-25T11:16:08.395782Z"
        },
        "id": "sqDMroFNfVvw"
      },
      "outputs": [],
      "execution_count": null
    },
    {
      "cell_type": "code",
      "source": [
        "from sklearn.ensemble import RandomForestClassifier\n",
        "\n",
        "# Modeli tanımlayıp eğitiyoruz\n",
        "rf_model = RandomForestClassifier(n_estimators=100, class_weight='balanced', random_state=42)\n",
        "rf_model.fit(X_train, y_train)\n",
        "\n",
        "# Tahmin yapıyoruz\n",
        "y_pred_rf = rf_model.predict(X_test)\n",
        "\n",
        "# Değerlendirmemizdir tekrardan\n",
        "print(\"Random Forest Sonuçları:\")\n",
        "print(confusion_matrix(y_test, y_pred_rf))\n",
        "print(classification_report(y_test, y_pred_rf))\n",
        "print(\"Accuracy:\", accuracy_score(y_test, y_pred_rf))\n"
      ],
      "metadata": {
        "trusted": true,
        "execution": {
          "iopub.status.busy": "2025-05-25T11:18:28.637887Z",
          "iopub.execute_input": "2025-05-25T11:18:28.63828Z",
          "iopub.status.idle": "2025-05-25T11:18:29.047481Z",
          "shell.execute_reply.started": "2025-05-25T11:18:28.638244Z",
          "shell.execute_reply": "2025-05-25T11:18:29.045769Z"
        },
        "id": "qLid0rqBfVvw"
      },
      "outputs": [],
      "execution_count": null
    },
    {
      "cell_type": "code",
      "source": [
        "# Tarih sütunlarını veri setinden çıkarıyoruz\n",
        "df = df.drop([\"ScheduledDay\", \"AppointmentDay\"], axis=1)\n"
      ],
      "metadata": {
        "trusted": true,
        "execution": {
          "iopub.status.busy": "2025-05-25T11:19:12.16962Z",
          "iopub.execute_input": "2025-05-25T11:19:12.169952Z",
          "iopub.status.idle": "2025-05-25T11:19:12.191541Z",
          "shell.execute_reply.started": "2025-05-25T11:19:12.169929Z",
          "shell.execute_reply": "2025-05-25T11:19:12.189896Z"
        },
        "id": "_xr9i_EtfVvw"
      },
      "outputs": [],
      "execution_count": null
    },
    {
      "cell_type": "code",
      "source": [
        "# Var olan sütunları güvenli şekilde siliyoruz hata sebebiyle\n",
        "df = df.drop(columns=[\"ScheduledDay\", \"AppointmentDay\"], errors=\"ignore\")\n"
      ],
      "metadata": {
        "trusted": true,
        "execution": {
          "iopub.status.busy": "2025-05-25T11:19:36.720958Z",
          "iopub.execute_input": "2025-05-25T11:19:36.721325Z",
          "iopub.status.idle": "2025-05-25T11:19:36.733923Z",
          "shell.execute_reply.started": "2025-05-25T11:19:36.721301Z",
          "shell.execute_reply": "2025-05-25T11:19:36.73292Z"
        },
        "id": "HEx_HjRffVvw"
      },
      "outputs": [],
      "execution_count": null
    },
    {
      "cell_type": "code",
      "source": [
        "# X ve y'yi ayırıyoruz\n",
        "X = df.drop(\"No-show\", axis=1)\n",
        "y = df[\"No-show\"]\n",
        "\n",
        "# Eğitim ve test setlerine ayır\n",
        "from sklearn.model_selection import train_test_split\n",
        "X_train, X_test, y_train, y_test = train_test_split(X, y, test_size=0.2, random_state=42)\n"
      ],
      "metadata": {
        "trusted": true,
        "execution": {
          "iopub.status.busy": "2025-05-25T11:19:47.990219Z",
          "iopub.execute_input": "2025-05-25T11:19:47.990606Z",
          "iopub.status.idle": "2025-05-25T11:19:48.024965Z",
          "shell.execute_reply.started": "2025-05-25T11:19:47.990582Z",
          "shell.execute_reply": "2025-05-25T11:19:48.02407Z"
        },
        "id": "qMJ8fJxnfVvw"
      },
      "outputs": [],
      "execution_count": null
    },
    {
      "cell_type": "code",
      "source": [
        "from sklearn.linear_model import LogisticRegression\n",
        "from sklearn.metrics import classification_report, confusion_matrix, accuracy_score\n",
        "\n",
        "# Modeli tanımlayıp eğitiyoruz\n",
        "log_model = LogisticRegression(max_iter=1000, class_weight='balanced', random_state=42)\n",
        "log_model.fit(X_train, y_train)\n",
        "\n",
        "# Test verisinde tahmin yapıyoruz\n",
        "y_pred_log = log_model.predict(X_test)\n",
        "\n",
        "# Performans sonuçlarına bakıyoruz\n",
        "print(\"📊 Logistic Regression Sonuçları:\")\n",
        "print(confusion_matrix(y_test, y_pred_log))\n",
        "print(classification_report(y_test, y_pred_log))\n",
        "print(\"Accuracy:\", accuracy_score(y_test, y_pred_log))\n"
      ],
      "metadata": {
        "trusted": true,
        "execution": {
          "iopub.status.busy": "2025-05-25T12:07:20.32743Z",
          "iopub.execute_input": "2025-05-25T12:07:20.327747Z",
          "iopub.status.idle": "2025-05-25T12:07:25.821642Z",
          "shell.execute_reply.started": "2025-05-25T12:07:20.327725Z",
          "shell.execute_reply": "2025-05-25T12:07:25.820683Z"
        },
        "id": "u4HYZAMvfVvx"
      },
      "outputs": [],
      "execution_count": null
    },
    {
      "cell_type": "code",
      "source": [
        "from sklearn.ensemble import RandomForestClassifier\n",
        "\n",
        "# Modeli tanımlayıp yine eğitiyoruz\n",
        "rf_model = RandomForestClassifier(n_estimators=100, class_weight='balanced', random_state=42)\n",
        "rf_model.fit(X_train, y_train)\n",
        "\n",
        "# Test verisinde tahmin yapıyoruz\n",
        "y_pred_rf = rf_model.predict(X_test)\n",
        "\n",
        "# Performans sonuçlarına bakıyoruz\n",
        "print(\"🌲 Random Forest Sonuçları:\")\n",
        "print(confusion_matrix(y_test, y_pred_rf))\n",
        "print(classification_report(y_test, y_pred_rf))\n",
        "print(\"Accuracy:\", accuracy_score(y_test, y_pred_rf))\n"
      ],
      "metadata": {
        "trusted": true,
        "execution": {
          "iopub.status.busy": "2025-05-25T12:07:57.534843Z",
          "iopub.execute_input": "2025-05-25T12:07:57.53525Z",
          "iopub.status.idle": "2025-05-25T12:08:14.688751Z",
          "shell.execute_reply.started": "2025-05-25T12:07:57.535206Z",
          "shell.execute_reply": "2025-05-25T12:08:14.687696Z"
        },
        "id": "tojlDXKSfVvx"
      },
      "outputs": [],
      "execution_count": null
    },
    {
      "cell_type": "code",
      "source": [
        "from sklearn.model_selection import GridSearchCV\n",
        "from sklearn.ensemble import RandomForestClassifier\n",
        "\n",
        "# Parametreler\n",
        "param_grid = {\n",
        "    'n_estimators': [100, 200],\n",
        "    'max_depth': [10, 20, None],\n",
        "    'min_samples_split': [2, 5],\n",
        "    'min_samples_leaf': [1, 2]\n",
        "}\n",
        "\n",
        "# Model\n",
        "rf = RandomForestClassifier(class_weight='balanced', random_state=42)\n",
        "\n",
        "# Grid Search\n",
        "grid_search = GridSearchCV(estimator=rf, param_grid=param_grid,\n",
        "                           scoring='f1', cv=3, verbose=1, n_jobs=-1)\n",
        "\n",
        "# Eğitim\n",
        "grid_search.fit(X_train, y_train)\n",
        "\n",
        "# En iyi modeli alıyoruz\n",
        "best_rf = grid_search.best_estimator_\n",
        "\n",
        "# Test setinde değerlendiriyoruz\n",
        "y_pred_best = best_rf.predict(X_test)\n",
        "\n",
        "from sklearn.metrics import classification_report, confusion_matrix, accuracy_score\n",
        "\n",
        "print(\"📈 En iyi model sonuçları:\")\n",
        "print(confusion_matrix(y_test, y_pred_best))\n",
        "print(classification_report(y_test, y_pred_best))\n",
        "print(\"Accuracy:\", accuracy_score(y_test, y_pred_best))\n"
      ],
      "metadata": {
        "trusted": true,
        "execution": {
          "iopub.status.busy": "2025-05-25T12:11:25.446802Z",
          "iopub.execute_input": "2025-05-25T12:11:25.447105Z",
          "iopub.status.idle": "2025-05-25T12:16:07.340189Z",
          "shell.execute_reply.started": "2025-05-25T12:11:25.447086Z",
          "shell.execute_reply": "2025-05-25T12:16:07.33912Z"
        },
        "id": "LpXXlxAhfVvx"
      },
      "outputs": [],
      "execution_count": null
    }
  ]
}